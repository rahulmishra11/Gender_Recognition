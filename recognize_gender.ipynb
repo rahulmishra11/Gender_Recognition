{
  "nbformat": 4,
  "nbformat_minor": 0,
  "metadata": {
    "colab": {
      "name": "recognize_gender.ipynb",
      "provenance": [],
      "collapsed_sections": [],
      "include_colab_link": true
    },
    "kernelspec": {
      "display_name": "Python 3",
      "name": "python3"
    }
  },
  "cells": [
    {
      "cell_type": "markdown",
      "metadata": {
        "id": "view-in-github",
        "colab_type": "text"
      },
      "source": [
        "<a href=\"https://colab.research.google.com/github/rahulmishra11/Gender_Recognition/blob/main/recognize_gender.ipynb\" target=\"_parent\"><img src=\"https://colab.research.google.com/assets/colab-badge.svg\" alt=\"Open In Colab\"/></a>"
      ]
    },
    {
      "cell_type": "code",
      "metadata": {
        "id": "xpU20m-9E3Z-"
      },
      "source": [
        "import numpy as np\n",
        "import pandas as pd"
      ],
      "execution_count": 7,
      "outputs": []
    },
    {
      "cell_type": "code",
      "metadata": {
        "id": "LV67UZ-RFoSs"
      },
      "source": [
        "df=pd.read_csv('/voice.csv')"
      ],
      "execution_count": 8,
      "outputs": []
    },
    {
      "cell_type": "code",
      "metadata": {
        "id": "pR9KyGALHspx",
        "colab": {
          "base_uri": "https://localhost:8080/"
        },
        "outputId": "1575197f-5599-4154-a964-7f21d75699c0"
      },
      "source": [
        "df.info()"
      ],
      "execution_count": 9,
      "outputs": [
        {
          "output_type": "stream",
          "text": [
            "<class 'pandas.core.frame.DataFrame'>\n",
            "RangeIndex: 3168 entries, 0 to 3167\n",
            "Data columns (total 21 columns):\n",
            " #   Column    Non-Null Count  Dtype  \n",
            "---  ------    --------------  -----  \n",
            " 0   meanfreq  3168 non-null   float64\n",
            " 1   sd        3168 non-null   float64\n",
            " 2   median    3168 non-null   float64\n",
            " 3   Q25       3168 non-null   float64\n",
            " 4   Q75       3168 non-null   float64\n",
            " 5   IQR       3168 non-null   float64\n",
            " 6   skew      3168 non-null   float64\n",
            " 7   kurt      3168 non-null   float64\n",
            " 8   sp.ent    3168 non-null   float64\n",
            " 9   sfm       3168 non-null   float64\n",
            " 10  mode      3168 non-null   float64\n",
            " 11  centroid  3168 non-null   float64\n",
            " 12  meanfun   3168 non-null   float64\n",
            " 13  minfun    3168 non-null   float64\n",
            " 14  maxfun    3168 non-null   float64\n",
            " 15  meandom   3168 non-null   float64\n",
            " 16  mindom    3168 non-null   float64\n",
            " 17  maxdom    3168 non-null   float64\n",
            " 18  dfrange   3168 non-null   float64\n",
            " 19  modindx   3168 non-null   float64\n",
            " 20  label     3168 non-null   object \n",
            "dtypes: float64(20), object(1)\n",
            "memory usage: 519.9+ KB\n"
          ],
          "name": "stdout"
        }
      ]
    },
    {
      "cell_type": "code",
      "metadata": {
        "id": "WIskBf9IHvyZ",
        "colab": {
          "base_uri": "https://localhost:8080/"
        },
        "outputId": "21b44b93-e1f4-4462-ff98-6a6238cf53e2"
      },
      "source": [
        "df.shape"
      ],
      "execution_count": 10,
      "outputs": [
        {
          "output_type": "execute_result",
          "data": {
            "text/plain": [
              "(3168, 21)"
            ]
          },
          "metadata": {
            "tags": []
          },
          "execution_count": 10
        }
      ]
    },
    {
      "cell_type": "code",
      "metadata": {
        "id": "SWgO49UZICLI",
        "colab": {
          "base_uri": "https://localhost:8080/"
        },
        "outputId": "4bd57822-b244-4d33-dd11-dacd2282ad9d"
      },
      "source": [
        " #Checking is there any Null Value in any feature(column).\n",
        " df.isnull().sum()"
      ],
      "execution_count": 11,
      "outputs": [
        {
          "output_type": "execute_result",
          "data": {
            "text/plain": [
              "meanfreq    0\n",
              "sd          0\n",
              "median      0\n",
              "Q25         0\n",
              "Q75         0\n",
              "IQR         0\n",
              "skew        0\n",
              "kurt        0\n",
              "sp.ent      0\n",
              "sfm         0\n",
              "mode        0\n",
              "centroid    0\n",
              "meanfun     0\n",
              "minfun      0\n",
              "maxfun      0\n",
              "meandom     0\n",
              "mindom      0\n",
              "maxdom      0\n",
              "dfrange     0\n",
              "modindx     0\n",
              "label       0\n",
              "dtype: int64"
            ]
          },
          "metadata": {
            "tags": []
          },
          "execution_count": 11
        }
      ]
    },
    {
      "cell_type": "code",
      "metadata": {
        "id": "ZFX7mnctJTHr"
      },
      "source": [
        "#Extracting last column of the dataframe.\n",
        "dfX=df.iloc[:, :-1]\n",
        "dfY=df.iloc[:,-1]"
      ],
      "execution_count": 12,
      "outputs": []
    },
    {
      "cell_type": "code",
      "metadata": {
        "id": "063vc-K6J1U5"
      },
      "source": [
        "# Now we need to convert the labels (Male,Female) into Numerical value. To do this we can use one hot encoding\n",
        "# but since it is label we will just encode Male as 1 and Female as 0.\n",
        "from sklearn.preprocessing import LabelEncoder\n",
        "encode_gender=LabelEncoder()\n",
        "dfY=encode_gender.fit_transform(dfY)"
      ],
      "execution_count": 13,
      "outputs": []
    },
    {
      "cell_type": "code",
      "metadata": {
        "id": "DLS0G7KrMrmb",
        "colab": {
          "base_uri": "https://localhost:8080/"
        },
        "outputId": "093d228e-01c9-4e10-9da8-0cfafe51f75f"
      },
      "source": [
        "from sklearn.preprocessing import StandardScaler\n",
        "scaler=StandardScaler()\n",
        "scaler.fit(dfX)\n",
        "scaler.transform(dfX)"
      ],
      "execution_count": 14,
      "outputs": [
        {
          "output_type": "execute_result",
          "data": {
            "text/plain": [
              "array([[-4.04924806,  0.4273553 , -4.22490077, ..., -1.43142165,\n",
              "        -1.41913712, -1.45477229],\n",
              "       [-3.84105325,  0.6116695 , -3.99929342, ..., -1.41810716,\n",
              "        -1.4058184 , -1.01410294],\n",
              "       [-3.46306647,  1.60384791, -4.09585052, ..., -1.42920257,\n",
              "        -1.41691733, -1.06534356],\n",
              "       ...,\n",
              "       [-1.29877326,  2.32272355, -0.05197279, ..., -0.5992661 ,\n",
              "        -0.58671739,  0.17588664],\n",
              "       [-1.2452018 ,  2.012196  , -0.01772849, ..., -0.41286326,\n",
              "        -0.40025537,  1.14916112],\n",
              "       [-0.51474626,  2.14765111, -0.07087873, ..., -1.27608595,\n",
              "        -1.2637521 ,  1.47567886]])"
            ]
          },
          "metadata": {
            "tags": []
          },
          "execution_count": 14
        }
      ]
    },
    {
      "cell_type": "code",
      "metadata": {
        "id": "Kuo3wspERXzU"
      },
      "source": [
        "#splitting dataset for training and testing purpose\n",
        "from sklearn.model_selection import train_test_split\n",
        "X_train,X_test,Y_train,Y_test=train_test_split(dfX,dfY,test_size=0.2,random_state=1)"
      ],
      "execution_count": 15,
      "outputs": []
    },
    {
      "cell_type": "markdown",
      "metadata": {
        "id": "jWFOV-I-fd5h"
      },
      "source": [
        "**SVM**"
      ]
    },
    {
      "cell_type": "code",
      "metadata": {
        "id": "MTpwLnWtVbAx"
      },
      "source": [
        "#importing SVM and metrics for accuracy visualization\n",
        "from sklearn.svm import SVC\n",
        "from sklearn import metrics"
      ],
      "execution_count": 16,
      "outputs": []
    },
    {
      "cell_type": "markdown",
      "metadata": {
        "id": "yCO42SL9fHHW"
      },
      "source": [
        "***USING LINEAR KERNEL***"
      ]
    },
    {
      "cell_type": "code",
      "metadata": {
        "id": "PGk5e6HbbcIk",
        "colab": {
          "base_uri": "https://localhost:8080/",
          "height": 297
        },
        "outputId": "172b3d6d-4724-4e02-c3b7-28d34d53b2a5"
      },
      "source": [
        "clf=SVC(kernel='linear')\n",
        "clf.fit(X_train,Y_train)\n",
        "y_predicted=clf.predict(X_test)\n",
        "metrics.plot_confusion_matrix(clf,X_test,Y_test)"
      ],
      "execution_count": 17,
      "outputs": [
        {
          "output_type": "execute_result",
          "data": {
            "text/plain": [
              "<sklearn.metrics._plot.confusion_matrix.ConfusionMatrixDisplay at 0x7f47959b7310>"
            ]
          },
          "metadata": {
            "tags": []
          },
          "execution_count": 17
        },
        {
          "output_type": "display_data",
          "data": {
            "image/png": "[encoded data removed]",
            "text/plain": [
              "<Figure size 432x288 with 2 Axes>"
            ]
          },
          "metadata": {
            "tags": [],
            "needs_background": "light"
          }
        }
      ]
    },
    {
      "cell_type": "code",
      "metadata": {
        "id": "43vDBLnlb9Rq",
        "colab": {
          "base_uri": "https://localhost:8080/"
        },
        "outputId": "b0cdd81a-51f8-4567-df1a-7e6477dd85d2"
      },
      "source": [
        "print(f\"Classification report for classifier {clf}:\\n\"\n",
        "      f\"{metrics.classification_report(Y_test, y_predicted)}\\n\")"
      ],
      "execution_count": 18,
      "outputs": [
        {
          "output_type": "stream",
          "text": [
            "Classification report for classifier SVC(C=1.0, break_ties=False, cache_size=200, class_weight=None, coef0=0.0,\n",
            "    decision_function_shape='ovr', degree=3, gamma='scale', kernel='linear',\n",
            "    max_iter=-1, probability=False, random_state=None, shrinking=True,\n",
            "    tol=0.001, verbose=False):\n",
            "              precision    recall  f1-score   support\n",
            "\n",
            "           0       0.97      0.85      0.91       311\n",
            "           1       0.87      0.98      0.92       323\n",
            "\n",
            "    accuracy                           0.91       634\n",
            "   macro avg       0.92      0.91      0.91       634\n",
            "weighted avg       0.92      0.91      0.91       634\n",
            "\n",
            "\n"
          ],
          "name": "stdout"
        }
      ]
    },
    {
      "cell_type": "code",
      "metadata": {
        "id": "UN-VcLh_dSzi",
        "colab": {
          "base_uri": "https://localhost:8080/"
        },
        "outputId": "ea33baf0-02fc-4951-f75b-ba97f7dd0512"
      },
      "source": [
        "print(\"Accuracy Score :\")\n",
        "print(metrics.accuracy_score(Y_test,y_predicted))"
      ],
      "execution_count": 19,
      "outputs": [
        {
          "output_type": "stream",
          "text": [
            "Accuracy Score :\n",
            "0.9148264984227129\n"
          ],
          "name": "stdout"
        }
      ]
    },
    {
      "cell_type": "markdown",
      "metadata": {
        "id": "eOEkuvXceuU7"
      },
      "source": [
        "***USING RBF KERNEL***"
      ]
    },
    {
      "cell_type": "code",
      "metadata": {
        "id": "TX1t5quUdyap",
        "colab": {
          "base_uri": "https://localhost:8080/",
          "height": 297
        },
        "outputId": "4a79d06d-e854-46e8-e9a8-d526145143e0"
      },
      "source": [
        " clf=SVC(kernel='rbf') #by default SVC is RBF kernel\n",
        " clf.fit(X_train,Y_train)\n",
        " y_predicted=clf.predict(X_test)\n",
        " metrics.plot_confusion_matrix(clf,X_test,Y_test)"
      ],
      "execution_count": 20,
      "outputs": [
        {
          "output_type": "execute_result",
          "data": {
            "text/plain": [
              "<sklearn.metrics._plot.confusion_matrix.ConfusionMatrixDisplay at 0x7f4793b207d0>"
            ]
          },
          "metadata": {
            "tags": []
          },
          "execution_count": 20
        },
        {
          "output_type": "display_data",
          "data": {
            "image/png": "[encoded data removed]",
            "text/plain": [
              "<Figure size 432x288 with 2 Axes>"
            ]
          },
          "metadata": {
            "tags": [],
            "needs_background": "light"
          }
        }
      ]
    },
    {
      "cell_type": "code",
      "metadata": {
        "id": "IHjf0lM-ejJv"
      },
      "source": [
        ""
      ],
      "execution_count": 20,
      "outputs": []
    },
    {
      "cell_type": "markdown",
      "metadata": {
        "id": "SGBYq4zygo_o"
      },
      "source": [
        "***USING POLY KERNEL***"
      ]
    },
    {
      "cell_type": "code",
      "metadata": {
        "id": "DOYcAPhzgUno",
        "colab": {
          "base_uri": "https://localhost:8080/",
          "height": 297
        },
        "outputId": "75fdcca4-18de-47fb-d4a2-da7bbadf806f"
      },
      "source": [
        "clf=SVC(kernel='poly')\n",
        "clf.fit(X_train,Y_train)\n",
        "y_predicted=clf.predict(X_test)\n",
        "metrics.plot_confusion_matrix(clf,X_test,Y_test)"
      ],
      "execution_count": 21,
      "outputs": [
        {
          "output_type": "execute_result",
          "data": {
            "text/plain": [
              "<sklearn.metrics._plot.confusion_matrix.ConfusionMatrixDisplay at 0x7f479357ca10>"
            ]
          },
          "metadata": {
            "tags": []
          },
          "execution_count": 21
        },
        {
          "output_type": "display_data",
          "data": {
            "image/png": "[encoded data removed]",
            "text/plain": [
              "<Figure size 432x288 with 2 Axes>"
            ]
          },
          "metadata": {
            "tags": [],
            "needs_background": "light"
          }
        }
      ]
    },
    {
      "cell_type": "code",
      "metadata": {
        "id": "bWsOxyFwgutH",
        "colab": {
          "base_uri": "https://localhost:8080/"
        },
        "outputId": "8a675d95-75cf-4459-eea9-a4681194edcb"
      },
      "source": [
        "print(\"Accuracy Score :\")\n",
        "print(metrics.accuracy_score(Y_test,y_predicted))"
      ],
      "execution_count": 22,
      "outputs": [
        {
          "output_type": "stream",
          "text": [
            "Accuracy Score :\n",
            "0.5031545741324921\n"
          ],
          "name": "stdout"
        }
      ]
    },
    {
      "cell_type": "markdown",
      "metadata": {
        "id": "t6n_Y_oGjFFd"
      },
      "source": [
        "#**Cross Validation**"
      ]
    },
    {
      "cell_type": "markdown",
      "metadata": {
        "id": "fCX0Ty3-j4mx"
      },
      "source": [
        "*with respect to hyperparameter c*"
      ]
    },
    {
      "cell_type": "code",
      "metadata": {
        "id": "fVKkiLKTkWiz"
      },
      "source": [
        "from sklearn.model_selection import cross_val_score"
      ],
      "execution_count": 23,
      "outputs": []
    },
    {
      "cell_type": "code",
      "metadata": {
        "id": "T6FrsMDgg2_R",
        "colab": {
          "base_uri": "https://localhost:8080/"
        },
        "outputId": "22c7439d-88b6-49ae-e13f-b26a3d7703ae"
      },
      "source": [
        "#Linear SVM\n",
        "clf=SVC(kernel='linear')\n",
        "scores=cross_val_score(clf,dfX,dfY,cv=10,scoring='accuracy')\n",
        "print(scores)"
      ],
      "execution_count": 24,
      "outputs": [
        {
          "output_type": "stream",
          "text": [
            "[0.72239748 0.94321767 0.84542587 0.96214511 0.94006309 0.99684543\n",
            " 0.97791798 0.96845426 0.9335443  0.90189873]\n"
          ],
          "name": "stdout"
        }
      ]
    },
    {
      "cell_type": "code",
      "metadata": {
        "id": "B6oJoc5Ym9Yn",
        "colab": {
          "base_uri": "https://localhost:8080/"
        },
        "outputId": "95ce4c11-2139-4d5a-95d8-432f87494ed5"
      },
      "source": [
        "print(scores.mean())"
      ],
      "execution_count": 25,
      "outputs": [
        {
          "output_type": "stream",
          "text": [
            "0.9191909914946292\n"
          ],
          "name": "stdout"
        }
      ]
    },
    {
      "cell_type": "code",
      "metadata": {
        "id": "0cke6jdAnGIL",
        "colab": {
          "base_uri": "https://localhost:8080/"
        },
        "outputId": "a274173f-f48d-45c3-b5b8-7402025662ff"
      },
      "source": [
        "#RBF Kernel\n",
        "clf=SVC()\n",
        "scores=cross_val_score(clf,dfX,dfY,cv=10,scoring='accuracy')\n",
        "print(scores)"
      ],
      "execution_count": 26,
      "outputs": [
        {
          "output_type": "stream",
          "text": [
            "[0.51104101 0.5488959  0.63722397 0.69716088 0.73501577 0.76971609\n",
            " 0.75394322 0.67192429 0.61075949 0.65189873]\n"
          ],
          "name": "stdout"
        }
      ]
    },
    {
      "cell_type": "code",
      "metadata": {
        "id": "5svCQW6UnnT7",
        "colab": {
          "base_uri": "https://localhost:8080/"
        },
        "outputId": "deb4dc84-d011-4989-972c-e9f9b0b9c859"
      },
      "source": [
        "print(scores.mean())"
      ],
      "execution_count": 27,
      "outputs": [
        {
          "output_type": "stream",
          "text": [
            "0.658757936349479\n"
          ],
          "name": "stdout"
        }
      ]
    },
    {
      "cell_type": "code",
      "metadata": {
        "id": "J1_RZAIgnplh",
        "colab": {
          "base_uri": "https://localhost:8080/"
        },
        "outputId": "4795db7a-d6b4-44db-889e-f21682fac69d"
      },
      "source": [
        "#Poly Kernel\n",
        "clf=SVC(kernel='poly')\n",
        "scores=cross_val_score(clf,dfX,dfY,cv=10,scoring='accuracy')\n",
        "print(scores)"
      ],
      "execution_count": 28,
      "outputs": [
        {
          "output_type": "stream",
          "text": [
            "[0.58044164 0.53943218 0.45425868 0.5615142  0.50157729 0.50157729\n",
            " 0.50157729 0.50157729 0.48417722 0.50316456]\n"
          ],
          "name": "stdout"
        }
      ]
    },
    {
      "cell_type": "code",
      "metadata": {
        "id": "3Lfq4feWn0a7",
        "colab": {
          "base_uri": "https://localhost:8080/"
        },
        "outputId": "148d13d1-7ea3-40ee-a2d9-c3cc9c55c5f5"
      },
      "source": [
        "print(scores.mean())"
      ],
      "execution_count": 29,
      "outputs": [
        {
          "output_type": "stream",
          "text": [
            "0.5129297608114044\n"
          ],
          "name": "stdout"
        }
      ]
    },
    {
      "cell_type": "code",
      "metadata": {
        "id": "Hs5Gkgngn3ye"
      },
      "source": [
        "# Now we can also use Cross Validation to find accurate value of C and gamma for SVM."
      ],
      "execution_count": 30,
      "outputs": []
    }
  ]
}